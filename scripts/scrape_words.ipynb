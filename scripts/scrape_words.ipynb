{
 "cells": [
  {
   "cell_type": "code",
   "execution_count": 5,
   "metadata": {},
   "outputs": [
    {
     "name": "stdout",
     "output_type": "stream",
     "text": [
      "1001\n"
     ]
    }
   ],
   "source": [
    "import requests\n",
    "from bs4 import BeautifulSoup\n",
    "\n",
    "url = \"https://1000mostcommonwords.com/1000-most-common-maori-words/\"\n",
    "\n",
    "# get the table\n",
    "\n",
    "response = requests.get(url)\n",
    "soup = BeautifulSoup(response.text, \"html.parser\")\n",
    "table = soup.find(\"table\")\n",
    "\n",
    "words = []\n",
    "\n",
    "# words are in the second column\n",
    "for row in table.find_all(\"tr\"):\n",
    "    cells = row.find_all(\"td\")\n",
    "    if len(cells) > 1:\n",
    "        words.append(cells[1].text)\n",
    "print(len(words))"
   ]
  },
  {
   "cell_type": "code",
   "execution_count": 12,
   "metadata": {},
   "outputs": [
    {
     "name": "stdout",
     "output_type": "stream",
     "text": [
      "127\n"
     ]
    }
   ],
   "source": [
    "# cleaning\n",
    "words = [word for word in words if \" \" not in word]\n",
    "words = [word for word in words if len(word) == 5]\n",
    "words = [word.lower() for word in words]\n",
    "print(len(words))"
   ]
  },
  {
   "cell_type": "code",
   "execution_count": 13,
   "metadata": {},
   "outputs": [],
   "source": [
    "language_code = \"mi\"\n",
    "data_dir = f\"../webapp/data/languages/{language_code}/\"\n",
    "\n",
    "# make data directory if \"/mi\" doesnt exist\n",
    "import glob\n",
    "\n",
    "if not glob.glob(data_dir):\n",
    "    import os\n",
    "\n",
    "    os.mkdir(data_dir)\n",
    "else:\n",
    "    pass\n",
    "    # raise Exception(\"data directory already exists\")\n",
    "\n",
    "# write to txt\n",
    "with open(data_dir + f\"/{language_code}_5words.txt\", \"w\") as f:\n",
    "    for word in words:\n",
    "        f.write(word + \"\\n\")"
   ]
  },
  {
   "cell_type": "code",
   "execution_count": 15,
   "metadata": {},
   "outputs": [
    {
     "data": {
      "text/plain": [
       "True"
      ]
     },
     "execution_count": 15,
     "metadata": {},
     "output_type": "execute_result"
    }
   ],
   "source": [
    "#\n",
    "# if all([char in language_characters[lang] for char in word])\n",
    "\n",
    "chars = \"abcdefghiklmnoprstuvwāīōū’\"\n",
    "word = words[0]\n",
    "all(char in chars for char in word)"
   ]
  },
  {
   "cell_type": "code",
   "execution_count": null,
   "metadata": {},
   "outputs": [],
   "source": []
  }
 ],
 "metadata": {
  "interpreter": {
   "hash": "5d4998e48311de605351e6a3a2b6f36984d940084a27a82e646a75895110c4a8"
  },
  "kernelspec": {
   "display_name": "Python 3.8.10 ('venv': venv)",
   "language": "python",
   "name": "python3"
  },
  "language_info": {
   "codemirror_mode": {
    "name": "ipython",
    "version": 3
   },
   "file_extension": ".py",
   "mimetype": "text/x-python",
   "name": "python",
   "nbconvert_exporter": "python",
   "pygments_lexer": "ipython3",
   "version": "3.8.10"
  },
  "orig_nbformat": 4
 },
 "nbformat": 4,
 "nbformat_minor": 2
}
